{
 "cells": [
  {
   "cell_type": "code",
   "execution_count": 1,
   "metadata": {},
   "outputs": [],
   "source": [
    "import numpy as np\n",
    "import matplotlib.pyplot as plt"
   ]
  },
  {
   "cell_type": "markdown",
   "metadata": {},
   "source": [
    "# Magnetorquer Sizing\n",
    "\n",
    "### Operating Principle of Magnetorquers\n",
    "\n",
    "The operating principle of magnetorquers is based on the concept of magnetic dipole moment, denoted by $\\vec{M}$, that can be defined by the torque experienced a magnet exposed to an external magnetic field, given by the equation: \n",
    "\n",
    "$$\\vec{\\tau} = \\vec{M} \\times \\vec{B}$$\n",
    "\n",
    "In which $\\vec{B}$ is the magnetic induction associated with the external magnetic field. Note that when $\\vec{M}$ is collinear to $\\vec{B}$ no torque acts on the source, as a manifest of the fundamental principal that magnets tend to align with any external magnetic field. \n",
    "\n",
    "For a solenoid with air core, the magnetic moment can be expressed as $\\vec{M} = NIA\\vec{n} = V\\frac{NI}{l}\\vec{n} = V\\vec{H}$, in which $N$ is the number of coils (turns) of the solenoid, $I$ is the current flowing through the solenoid's conductor, $A$ is the surface area of a coil, $\\vec{n}$ is a unit vector perpendicular to the coil plane and $V$ is the volume of the solenoid's interior. This is equations represents an approximation for long solenoids, that is, those solenoids with length much greater than its radius, which is acceptable for the current analysis. Hence the torque produced by the interaction between the magnetic dipole moment of a solenoid and an external magnetic field is given by the equation: \n",
    "\n",
    "$$\\vec{\\tau} = NIA\\vec{n} \\times \\vec{B}$$\n",
    "\n",
    "This is equation expresses the fact that it is possible to control the torque intensity by controlling the current flowing through the solenoid's conductor, except when the external magnetic field is alined with the vector $\\vec{n}$. By controlling the torque intensity it is possible to rotate the solenoid, in a controlled fashion, along a circle with a rotation axis in the direction perpendicular to both $\\vec{n}$ and $\\vec{B}$, hence it is possible to control its orientation on a plane. By rigidly attaching the solenoid to a satellite frame, the torque that acts on the solenoid is trasfered to the whole frame, hence the it is possible to control the satellite's orientation by controlling the current flowing through the solenoid's conductors. \n",
    "\n",
    "Finally, in order to control the satellite's orientation in three dimensions three magnetorquers are necessary. This can be easily verified by considering that the torques applied to each of the magnetorquers are summed to produce a total torque given by:\n",
    "\n",
    "$$\\vec{\\tau}_{total} = (\\vec{M}_1 + \\vec{M}_2 + \\vec{M}_3) \\times \\vec{B}$$\n",
    "\n",
    "As long as $\\{\\vec{M}_1, \\vec{M}_2, \\vec{M}_3\\}$ are linearly indepedent, torque can be produced in any direction.\n",
    "\n",
    "ADD MORE IMAGES, TALK ABOUT TORQUE OVER THE CM AND CONNECT THE DOTS\n",
    "\n",
    "### Magnetic Materials\n",
    "\n",
    "By inspection of the equation that defines the magnetic dipole moment of the air core solenoid, it is clear that, for any constant external magnetic field, the torque produced by the air core magnetorquer can only be increased by increasing the area of coils, the number of coils or the current flowing through the solenoid. In the context of CubeSats, all of those options are problematic. Due to available space limitations, the area of the coils cannot be increased arbitrarely and leads to greater wire lengths, hence greater resistance and greater energy consumption. An increse in the number of coils also increase the wire lengths, energy consumption and available space consumption. Greater currents also lead to greater energy consumption, even at a higher rate than an increase in wire length. To overcome this limitation, it is possible to design a magnetorquer with a ferromagnetic core. \n",
    "\n",
    "Ferromagnetic materials are magnetic materials characterized by high magnetic permeability and low coercivity, which are desired properites for increasing the torque density of magnetorquers. Before going into the merit of greater torque desity, it is important to describe the hysteresis loop, since many desired requirements are based on the qualities of the hysteresis loop of the core material. \n",
    "\n",
    "Magnetic materials have a very complex behavior when subject to a magnetic field. This behavior is described by the hysteresis loop, resposible for defining the relation between $\\vec{B}$ and $\\vec{H}$ in magnetic materials beyond the linear relationship $\\vec{B} = \\mu \\vec{H}$, that does not hold for most situations. The most notable property of magnetic materials is that of memory, which means that the value of $\\vec{B}$ in a given moment in time cannot be directly determined by the value of $\\vec{H}$ in that same moment in time, instead it depends on the whole history of $\\vec{H}$ over time. Hence the relation between $\\vec{B}$ and $\\vec{H}$ is not actually a function, but a trajectory in the $\\vec{B}, \\vec{H}$ hyperspace, a trajectory called the hysteresis loop. \n",
    "\n",
    "A generic hysteresis loop is presented in the figure below.\n",
    "\n",
    "<p align=\"center\">\n",
    "    <img src=\"images/hysteresis-loop.jpg\">\n",
    "</p>\n",
    "\n",
    "Usually a ferromagnetic material's hysteresis loop is defined by the coercive force (or coercivity), by the remanence induction and by the saturation induction. When a magnetic material is exposed to an external magnetic field, the induction field intensity inside the material grows as the external magnetic field intensity grows, departuring from zero induction field intensity. This is the process of magnetization. Once the external magnetic field intensity is becomes null, the magnetic material still remains magnetized (this happens due to the nature of the magnetism of matter, once the magnetic moments of the material's microstructure become aligned by magnetization, they tend to remain aligned even in the absence of an external field), expressing the memory of the material. The intensity of the magnetic induction inside the material, after the magnetization, when the external magnetic field is null is called the remanent induction or residual magnetism. Another interesting property of magnetic materials is that of induction saturation. If the external magnetic field intensity growns linearly over time, the magnetic induction field intensity inside the magnetic material will tend to grow at the same rate as it would grow in air, which means that the material has already achieved it's maximum magnetization (given a finite ammount of matter inside the material, there is only a finite ammount of magnetic moments to be aligned ans supply the magnetization effect) and is said to have saturated. The point of saturation is called the saturation induction. Note that the maximum remanent induction is related to the saturation induction, since the maximum remanent induction is the consequence of increasing the external magnetic field intensity until saturation and then descreasing it until is vanishes, leaving the material with the maximum remanent induction. Finally, the coercivity is the magnetic field necessary to demagnetize a magnetic material with maximum remanent induction.\n",
    "\n",
    "The magnetic properties of the core material are fundamental for a sucessful magnetorquer design. Firstly because the slope of the hystersis loop defines the permeability of the material. Secondly because the remanent induction may interfere with any magnetometer measurements. And finally due to the fact that the area inside the hysteresis loop defines the maximum power loss of the core due to hysteresis effects, as opposed to losses due to eddy currents.\n",
    "\n",
    "### Magnetic Dipole Moment of Solenoid With Ferromagnetic Core\n",
    "\n",
    "The magnetic induction field $\\vec{B}$ inside a magnetic material exposed to a magnetic field $\\vec{H}$ is given the equation: \n",
    "\n",
    "$$\\vec{B} = \\mu_0(\\vec{H} + \\vec{J})$$\n",
    "\n",
    "In which $\\vec{M}$ is the magnetization field and $\\mu_0$ is the permeability of vaccum. This equation can be rearranged to yield: \n",
    "\n",
    "$$\\vec{J} = \\frac{\\vec{B}}{\\mu_0}-\\vec{H}$$\n",
    "\n",
    "Assuming that the core material has low coercivity and operates in a neighborhood of $(\\vec{B},\\vec{H} = (\\vec{0}, \\vec{0}))$, in which the hysteresis loop can be approximated by a line, the relation between the magnetic field and the magnetic induction field is given by:\n",
    "\n",
    "$$\\vec{H} = \\frac{\\vec{B}}{\\mu_0 \\mu_r}$$\n",
    "\n",
    "In which $\\mu_r$ is the relative magnetic permeability defined as $\\mu_r = \\mu / \\mu_0$. \n",
    "\n",
    "To proceed, it is necessary to establish the relation between $\\vec{H}$ and $I$, which is way more complicated when a ferromagnetic core is used to build the solenoid, due to a phenomenom know as the demagnetizing field. The demagetizing field is a consequence of the continuity conditions on the magnetic and induction fields. Since the magnetization field drops abruptly at the interface between the magnetic material and its surroundings, its intensity along the material is not uniform, specially near the material boundaries. This effect may lead to a response to the magnetic field produced by an external source actually weaker than it would be in air and can be approximated by the relation: \n",
    "\n",
    "$$\\vec{H} = \\frac{NI}{l}\\vec{n} - N_d\\vec{J}$$\n",
    "\n",
    "In which $N_d$ is called the demagnetization factor and is a constant depended of the geometry of the material. The derivation of analytical expressions for $N_d$ is quite involved and relies on the solution of partial differential equations in the domain of the magnetic material. In literature an expression usually used for cylindrical-shaped materials is:\n",
    "\n",
    "$$N_d = \\frac{4(ln(L/r)-1)}{(L/r)^2 - ln(L/r)}$$\n",
    "\n",
    "In which $L$ is the length of the cylinder and $r$ is it's radius.\n",
    "\n",
    "With the given equations it is possible to write: \n",
    "\n",
    "$$\\vec{J} = \\frac{NI}{l}\\vec{n}\\left( \\frac{\\mu_r - 1}{1 + N_d(\\mu_r - 1)}\\right)$$\n",
    "\n",
    "Finally, the total magnetic dipole moment of the solenoid is given by the magnetic dipole moment of the solenoid with the air core summed to that due to the core magnetization, hence: \n",
    "\n",
    "$$\\vec{M} = NIA\\vec{n}\\left( 1 + \\frac{\\mu_r - 1}{1 + N_d(\\mu_r - 1)}\\right)$$\n",
    "\n",
    "Given that $A = \\pi r^2$:\n",
    "\n",
    "$$\\vec{M} = \\pi r^2NI\\left( 1 + \\frac{\\mu_r - 1}{1 + N_d(\\mu_r - 1)}\\right)\\vec{n}$$\n",
    "\n",
    "Completing the derivation.\n",
    "\n",
    "### Guidelines for Magnetorquer Design\n",
    "\n",
    "The design of the magnetorquer is based on a target magnetic dipole moment. Based on the literature, a magnetic dipole moment of $0.2A m^2$ is enough for stabilization, but a greater magnetic dipole moment could be beneficial. There are 5 parameters to be chosen: the length of the core, the radius of the core, the magnetic permeability of the core, given by the choice of magnetic material, the number of turns and the maximum current. \n",
    "\n",
    "The process starts by choosing a magnetic material with low coercitivy and high relative permeability in the linear region of the material, in the neighborhood of $(\\vec{B},\\vec{H} = (\\vec{0}, \\vec{0}))$.\n",
    "\n",
    "The choice of the other parameters is constrained by the available space for the magnetorquer and the power available to drive it. Hence the design reduces to finding a combination of parameters that yields $\\|M\\| > 0.2 A m^2$ and meets the power consumption and available space constraints. \n",
    "\n",
    "After the choice of magnetic material, the procedure can be broken down into a few steps: \n",
    "\n",
    "1. Characterize the available space in terms of cuboid (paralelepípido)\n",
    "2. Parametrize the magnetorquer based on  the core radius, the magnetorquer radius (magnetorquer = core + coils) and magnetorquer length\n",
    "3. Derive an expression that relates the cross sectional area available for the coils, the wire diameter and the maximum number of coils that fit in that available space, considering that only 40% of the cross sectional area available for the coils can actually be used for copper\n",
    "\n",
    "At this point, the maximum core length and maximum magnetorquer radius are already defined, given the constraints on available space. There is also a clear relation between the wire diameter, the core radius, the magnetorquer radius, the core length and the number of coils. It is then interesting to introduce the magnetorquer resistance equation, given by: \n",
    "\n",
    "$$R \\approx N \\frac{\\pi(r_{magnetorquer} - r_{core})}{\\sigma \\pi r_{wire}^2}$$\n",
    "\n",
    "In which $\\sigma$ is the wire conductivity and $r_wire$ is the wire cross section radius. Finally, to relate the resistance to the peak power consumption all it takes is to analyse de equivalent circuit including de driver: \n",
    "\n",
    "\n",
    "<p align=\"center\">\n",
    "    <img src=\"images/magnetorquer-drive-circuit.png\">\n",
    "</p>\n",
    "\n",
    "It is clear that the maximum steady-state current occurs when the switch is \"ON\" all the time, hence total power is given by:\n",
    "\n",
    "$$P_{max} = \\frac{V_{cc}^2}{R}$$\n",
    "\n",
    "And the maximum current is given by:\n",
    "\n",
    "$$I_{max} = \\frac{V_{cc}}{R}$$\n",
    "\n",
    "The maximum magnetic dipole moment, once all parameters have been defined, can be derived from the maximum current.\n",
    "\n",
    "Last step is to use the derived equations to find a magnetorquer design that fits the available space, has a power consumption below or equal to the power consumption constraint and achieves a magnetic dipole moment greater or equal to $0.2 Am^2$\n"
   ]
  },
  {
   "cell_type": "code",
   "execution_count": 13,
   "metadata": {},
   "outputs": [],
   "source": [
    "import numpy as np\n",
    "import matplotlib.pyplot as plt"
   ]
  },
  {
   "cell_type": "code",
   "execution_count": 9,
   "metadata": {},
   "outputs": [],
   "source": [
    "class AvaliableSpaceCuboid:\n",
    "    def __init__(self, height, length, width):\n",
    "        self.height = height\n",
    "        self.length = length\n",
    "        self.width = width        "
   ]
  },
  {
   "cell_type": "code",
   "execution_count": 99,
   "metadata": {},
   "outputs": [],
   "source": [
    "class MagnetorquerCore:\n",
    "    def __init__(self, radius, length, relativePermeability):\n",
    "        self.radius = radius\n",
    "        self.length = length\n",
    "        self.relativePermeability = relativePermeability\n",
    "\n",
    "    def DemagnetizationFactor(self):\n",
    "        return 4*(np.log(self.length/self.radius) - 1)/((self.length/self.radius)**2 - np.log(self.length/self.radius))\n",
    "\n",
    "    def CrossSectionArea(self):\n",
    "        return np.pi*self.radius**2 "
   ]
  },
  {
   "cell_type": "code",
   "execution_count": 100,
   "metadata": {},
   "outputs": [],
   "source": [
    "class MagnetorquerWinding:\n",
    "    def __init__(self, conductivity, wireDiameter, turns, averageRadius):\n",
    "        self.conductivity = conductivity\n",
    "        self.wireDiameter = wireDiameter\n",
    "        self.turns = turns\n",
    "        self.averageRadius = averageRadius"
   ]
  },
  {
   "cell_type": "code",
   "execution_count": 101,
   "metadata": {},
   "outputs": [],
   "source": [
    "class Magnetorquer:\n",
    "    def __init__(self, core, winding, driverVoltage):\n",
    "        self.core = core\n",
    "        self.winding = winding\n",
    "        self.driverVoltage = driverVoltage\n",
    "\n",
    "    def Resistance(self):\n",
    "        return self.winding.turns*np.pi*2*self.winding.averageRadius/(self.winding.conductivity*np.pi*(self.winding.wireDiameter*0.5)**2)\n",
    "\n",
    "    def Inductance(self):\n",
    "        airPermeability = 4*np.pi*10**(-7)\n",
    "        return (airPermeability*np.pi*(self.core.radius*self.winding.turns)**2)/(self.core.length*(1/self.core.relativePermeability + self.core.DemagnetizationFactor()))\n",
    "\n",
    "    def MaximumWindingLoss(self):\n",
    "        return self.Resistance()*self.MaximumCurrent()**2\n",
    "\n",
    "    def MaximumCurrent(self):\n",
    "        return self.driverVoltage/(self.Resistance())\n",
    "\n",
    "    def MaximumMagneticMoment(self):\n",
    "        return (self.MaximumCurrent()*np.pi*self.winding.turns*self.core.radius**2)*(1 + (self.core.relativePermeability -1)/(1 + (self.core.relativePermeability-1)*self.core.DemagnetizationFactor))"
   ]
  },
  {
   "cell_type": "markdown",
   "metadata": {},
   "source": [
    "#### Slot Fill Factor Definition\n",
    "\n",
    "$$S = \\frac{copperFilledArea}{availableWindingCrossSectionArea}$$\n",
    "\n",
    "$$S \\approx \\frac{N\\pi r_{wire}^2}{L*(r_{magnetorquer} - r_{core})}$$"
   ]
  },
  {
   "cell_type": "markdown",
   "metadata": {},
   "source": [
    "<p align=\"center\">\n",
    "    <img src=\"images/demagnetization.png\">\n",
    "</p>"
   ]
  },
  {
   "cell_type": "code",
   "execution_count": 102,
   "metadata": {},
   "outputs": [],
   "source": [
    "class MagnetorquerDesigner: \n",
    "    def __init__(self, avaliableSpaceCuboid, desiredMagneticMoment, minimumSlotFillFactor, minimumCorePermeability):\n",
    "        self.availableSpace = avaliableSpaceCuboid\n",
    "        self.desiredMagneticMoment = desiredMagneticMoment\n",
    "        self.slotFillFactor = minimumSlotFillFactor\n",
    "        self.corePermeability = minimumCorePermeability\n",
    "\n",
    "    def Design(self):\n",
    "        pass"
   ]
  },
  {
   "cell_type": "code",
   "execution_count": null,
   "metadata": {},
   "outputs": [],
   "source": []
  }
 ],
 "metadata": {
  "kernelspec": {
   "display_name": "Python 3.9.13 64-bit",
   "language": "python",
   "name": "python3"
  },
  "language_info": {
   "codemirror_mode": {
    "name": "ipython",
    "version": 3
   },
   "file_extension": ".py",
   "mimetype": "text/x-python",
   "name": "python",
   "nbconvert_exporter": "python",
   "pygments_lexer": "ipython3",
   "version": "3.9.13"
  },
  "orig_nbformat": 4,
  "vscode": {
   "interpreter": {
    "hash": "aee8b7b246df8f9039afb4144a1f6fd8d2ca17a180786b69acc140d282b71a49"
   }
  }
 },
 "nbformat": 4,
 "nbformat_minor": 2
}
